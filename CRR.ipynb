{
 "cells": [
  {
   "cell_type": "code",
   "execution_count": 12,
   "metadata": {},
   "outputs": [
    {
     "name": "stdout",
     "output_type": "stream",
     "text": [
      "['\\\\\\\\wsl.localhost\\\\Ubuntu\\\\home\\\\deep', 'C:\\\\Users\\\\yugad\\\\anaconda3\\\\python312.zip', 'C:\\\\Users\\\\yugad\\\\anaconda3\\\\DLLs', 'C:\\\\Users\\\\yugad\\\\anaconda3\\\\Lib', 'C:\\\\Users\\\\yugad\\\\anaconda3', '', 'C:\\\\Users\\\\yugad\\\\anaconda3\\\\Lib\\\\site-packages', 'C:\\\\Users\\\\yugad\\\\anaconda3\\\\Lib\\\\site-packages\\\\win32', 'C:\\\\Users\\\\yugad\\\\anaconda3\\\\Lib\\\\site-packages\\\\win32\\\\lib', 'C:\\\\Users\\\\yugad\\\\anaconda3\\\\Lib\\\\site-packages\\\\Pythonwin', '/mnt/c/umd/testing/python_code', '/mnt/c/umd/testing/python_code', '/mnt/c/umd/testing/python_code', '/mnt/c/umd/testing/python_code/', '/mnt/c/umd/testing/python_code/', '/mnt/c/umd/testing/python_code/']\n"
     ]
    },
    {
     "ename": "ModuleNotFoundError",
     "evalue": "No module named 'spoketools'",
     "output_type": "error",
     "traceback": [
      "\u001b[1;31m---------------------------------------------------------------------------\u001b[0m",
      "\u001b[1;31mModuleNotFoundError\u001b[0m                       Traceback (most recent call last)",
      "Cell \u001b[1;32mIn[12], line 7\u001b[0m\n\u001b[0;32m      5\u001b[0m sys\u001b[38;5;241m.\u001b[39mpath\u001b[38;5;241m.\u001b[39mappend(\u001b[38;5;124m'\u001b[39m\u001b[38;5;124m/mnt/c/umd/testing/python_code/\u001b[39m\u001b[38;5;124m'\u001b[39m)\n\u001b[0;32m      6\u001b[0m \u001b[38;5;28mprint\u001b[39m(sys\u001b[38;5;241m.\u001b[39mpath)\n\u001b[1;32m----> 7\u001b[0m \u001b[38;5;28;01mimport\u001b[39;00m \u001b[38;5;21;01mspoketools\u001b[39;00m\n\u001b[0;32m      9\u001b[0m \u001b[38;5;28mprint\u001b[39m(spoketools\u001b[38;5;241m.\u001b[39mgreet())\n",
      "\u001b[1;31mModuleNotFoundError\u001b[0m: No module named 'spoketools'"
     ]
    }
   ],
   "source": [
    "import sys\n",
    "import numpy as np\n",
    "import matplotlib.pyplot as plt\n",
    "import os\n",
    "sys.path.append('/mnt/c/umd/testing/python_code/')\n",
    "print(sys.path)\n",
    "import spoketools\n",
    "\n",
    "print(spoketools.greet())\n",
    "\n"
   ]
  },
  {
   "cell_type": "code",
   "execution_count": 14,
   "metadata": {},
   "outputs": [
    {
     "ename": "PermissionError",
     "evalue": "[WinError 5] Access is denied: '/mnt/c/umd/testing/python_code/'",
     "output_type": "error",
     "traceback": [
      "\u001b[1;31m---------------------------------------------------------------------------\u001b[0m",
      "\u001b[1;31mPermissionError\u001b[0m                           Traceback (most recent call last)",
      "Cell \u001b[1;32mIn[14], line 1\u001b[0m\n\u001b[1;32m----> 1\u001b[0m \u001b[38;5;28mprint\u001b[39m(os\u001b[38;5;241m.\u001b[39mlistdir(\u001b[38;5;124m'\u001b[39m\u001b[38;5;124m/mnt/c/umd/testing/python_code/\u001b[39m\u001b[38;5;124m'\u001b[39m))\n",
      "\u001b[1;31mPermissionError\u001b[0m: [WinError 5] Access is denied: '/mnt/c/umd/testing/python_code/'"
     ]
    }
   ],
   "source": [
    "print(os.listdir('/mnt/c/umd/testing/python_code/'))"
   ]
  },
  {
   "cell_type": "code",
   "execution_count": null,
   "metadata": {},
   "outputs": [],
   "source": []
  }
 ],
 "metadata": {
  "kernelspec": {
   "display_name": "Python 3 (ipykernel)",
   "language": "python",
   "name": "python3"
  },
  "language_info": {
   "codemirror_mode": {
    "name": "ipython",
    "version": 3
   },
   "file_extension": ".py",
   "mimetype": "text/x-python",
   "name": "python",
   "nbconvert_exporter": "python",
   "pygments_lexer": "ipython3",
   "version": "3.12.4"
  }
 },
 "nbformat": 4,
 "nbformat_minor": 2
}
